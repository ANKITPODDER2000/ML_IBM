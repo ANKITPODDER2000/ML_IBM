{
 "cells": [
  {
   "cell_type": "code",
   "execution_count": 1,
   "metadata": {},
   "outputs": [
    {
     "name": "stdout",
     "output_type": "stream",
     "text": [
      "Version of tensorflow is : 1.15.0\n"
     ]
    }
   ],
   "source": [
    "import tensorflow as tf\n",
    "print(\"Version of tensorflow is : %s\"%str(tf.__version__))"
   ]
  },
  {
   "cell_type": "code",
   "execution_count": 2,
   "metadata": {},
   "outputs": [],
   "source": [
    "graph1 = tf.Graph()"
   ]
  },
  {
   "cell_type": "code",
   "execution_count": 23,
   "metadata": {},
   "outputs": [],
   "source": [
    "with graph1.as_default():\n",
    "    a = tf.constant([5],name=\"constant_a\")\n",
    "    b = tf.constant([2],name=\"constant_b\")\n",
    "    \n",
    "    add = tf.add(a,b,name=\"add\")"
   ]
  },
  {
   "cell_type": "code",
   "execution_count": 24,
   "metadata": {},
   "outputs": [
    {
     "name": "stdout",
     "output_type": "stream",
     "text": [
      "a := Tensor(\"constant_a_15:0\", shape=(1,), dtype=int32)\t&\tname := constant_a_15:0\n",
      "b := Tensor(\"constant_b_1:0\", shape=(1,), dtype=int32)\t&\tname := constant_b_1:0\n",
      "add := Tensor(\"add_9:0\", shape=(1,), dtype=int32)\t&\tname := add_9:0\n"
     ]
    }
   ],
   "source": [
    "print(\"a := %s\\t&\\tname := %s\"%(str(a),a.name))\n",
    "print(\"b := %s\\t&\\tname := %s\"%(str(b),b.name))\n",
    "print(\"add := %s\\t&\\tname := %s\"%(str(add),add.name))"
   ]
  },
  {
   "cell_type": "code",
   "execution_count": 25,
   "metadata": {},
   "outputs": [],
   "source": [
    "sess = tf.Session(graph=graph1)"
   ]
  },
  {
   "cell_type": "code",
   "execution_count": 26,
   "metadata": {},
   "outputs": [
    {
     "name": "stdout",
     "output_type": "stream",
     "text": [
      "Value of a :=  [5]\n",
      "Value of b :=  [2]\n",
      "Value of add :=  [7]\n"
     ]
    }
   ],
   "source": [
    "print(\"Value of a := \",sess.run(a))\n",
    "print(\"Value of b := \",sess.run(b))\n",
    "print(\"Value of add := \",sess.run(add))"
   ]
  },
  {
   "cell_type": "code",
   "execution_count": 34,
   "metadata": {},
   "outputs": [],
   "source": [
    "with graph1.as_default():\n",
    "    add_op = a+b\n",
    "    sub_op = a-b\n",
    "    mul = a * b"
   ]
  },
  {
   "cell_type": "code",
   "execution_count": 37,
   "metadata": {},
   "outputs": [
    {
     "name": "stdout",
     "output_type": "stream",
     "text": [
      "Value of add_op :=  [7]\n",
      "Value of sub_op :=  [3]\n",
      "Value of mul :=  [10]\n"
     ]
    }
   ],
   "source": [
    "print(\"Value of add_op := \",sess.run(add_op))\n",
    "print(\"Value of sub_op := \",sess.run(sub_op))\n",
    "print(\"Value of mul := \",sess.run(mul))"
   ]
  },
  {
   "cell_type": "code",
   "execution_count": 39,
   "metadata": {},
   "outputs": [],
   "source": [
    "sess.close()"
   ]
  },
  {
   "cell_type": "code",
   "execution_count": 40,
   "metadata": {},
   "outputs": [],
   "source": [
    "graph2 = tf.Graph()\n",
    "with graph2.as_default():\n",
    "    scalar = tf.constant(5,name=\"Scalar\")\n",
    "    vector = tf.constant([10,20,30],name=\"Vector\")\n",
    "    matrix = tf.constant([[1,2,3],[4,5,6],[7,8,9]],name=\"Matrix\")\n",
    "    tensor = tf.constant([[[1,2,3],[1,2,3]],[[1,2,3],[1,2,3]]],name=\"Tensor\")"
   ]
  },
  {
   "cell_type": "code",
   "execution_count": 41,
   "metadata": {},
   "outputs": [
    {
     "name": "stdout",
     "output_type": "stream",
     "text": [
      "Shape of scalar := ()\n",
      "Shape of vector := (3,)\n",
      "Shape of matrix := (3, 3)\n",
      "Shape of tensor := (2, 2, 3)\n"
     ]
    }
   ],
   "source": [
    "print(\"Shape of scalar := %s\"%str(scalar.shape))\n",
    "print(\"Shape of vector := %s\"%str(vector.shape))\n",
    "print(\"Shape of matrix := %s\"%str(matrix.shape))\n",
    "print(\"Shape of tensor := %s\"%str(tensor.shape))"
   ]
  },
  {
   "cell_type": "code",
   "execution_count": 42,
   "metadata": {},
   "outputs": [
    {
     "name": "stdout",
     "output_type": "stream",
     "text": [
      "scalar :=  Tensor(\"Scalar:0\", shape=(), dtype=int32)\n",
      "vector :=  Tensor(\"Vector:0\", shape=(3,), dtype=int32)\n",
      "matrix :=  Tensor(\"Matrix:0\", shape=(3, 3), dtype=int32)\n",
      "tensor :=  Tensor(\"Tensor:0\", shape=(2, 2, 3), dtype=int32)\n"
     ]
    }
   ],
   "source": [
    "print(\"scalar := \",scalar)\n",
    "print(\"vector := \",vector)\n",
    "print(\"matrix := \",matrix)\n",
    "print(\"tensor := \",tensor)"
   ]
  },
  {
   "cell_type": "code",
   "execution_count": 45,
   "metadata": {},
   "outputs": [
    {
     "name": "stdout",
     "output_type": "stream",
     "text": [
      "\n",
      "Value of scalar :=\n",
      "5\n",
      "\n",
      "Value of vector :=\n",
      "[10 20 30]\n",
      "\n",
      "Value of matrix :=\n",
      "[[1 2 3]\n",
      " [4 5 6]\n",
      " [7 8 9]]\n",
      "\n",
      "Value of tensor :=\n",
      "[[[1 2 3]\n",
      "  [1 2 3]]\n",
      "\n",
      " [[1 2 3]\n",
      "  [1 2 3]]]\n"
     ]
    }
   ],
   "source": [
    "with tf.Session(graph=graph2) as sess:\n",
    "    print(\"\\nValue of scalar :=\\n%s\"%str(sess.run(scalar)))\n",
    "    print(\"\\nValue of vector :=\\n%s\"%str(sess.run(vector)))\n",
    "    print(\"\\nValue of matrix :=\\n%s\"%str(sess.run(matrix)))\n",
    "    print(\"\\nValue of tensor :=\\n%s\"%str(sess.run(tensor)))"
   ]
  },
  {
   "cell_type": "code",
   "execution_count": 57,
   "metadata": {},
   "outputs": [],
   "source": [
    "with graph2.as_default():\n",
    "    mul = tf.matmul(matrix,matrix)\n",
    "    mul_op = matrix * matrix\n",
    "    \n",
    "    add = tf.add(matrix,matrix)\n",
    "    sub = tf.subtract(matrix,matrix)"
   ]
  },
  {
   "cell_type": "code",
   "execution_count": 58,
   "metadata": {},
   "outputs": [
    {
     "name": "stdout",
     "output_type": "stream",
     "text": [
      "\n",
      "Matrix multipication : \n",
      " [[ 30  36  42]\n",
      " [ 66  81  96]\n",
      " [102 126 150]]\n",
      "\n",
      "Element wise operation :\n",
      " [[ 1  4  9]\n",
      " [16 25 36]\n",
      " [49 64 81]]\n",
      "\n",
      "Add is :\n",
      " [[ 2  4  6]\n",
      " [ 8 10 12]\n",
      " [14 16 18]]\n",
      "\n",
      "Subtract is :\n",
      " [[0 0 0]\n",
      " [0 0 0]\n",
      " [0 0 0]]\n"
     ]
    }
   ],
   "source": [
    "with tf.Session(graph=graph2) as sess:\n",
    "    print(\"\\nMatrix multipication : \\n\",sess.run(mul))\n",
    "    print(\"\\nElement wise operation :\\n\",sess.run(mul_op))\n",
    "    print(\"\\nAdd is :\\n\",sess.run(add))\n",
    "    print(\"\\nSubtract is :\\n\",sess.run(sub))"
   ]
  },
  {
   "cell_type": "code",
   "execution_count": 73,
   "metadata": {},
   "outputs": [],
   "source": [
    "v = tf.Variable(0)\n",
    "update = tf.assign(v,v+1)"
   ]
  },
  {
   "cell_type": "code",
   "execution_count": 74,
   "metadata": {},
   "outputs": [],
   "source": [
    "in_op = tf.global_variables_initializer()"
   ]
  },
  {
   "cell_type": "code",
   "execution_count": 77,
   "metadata": {},
   "outputs": [
    {
     "name": "stdout",
     "output_type": "stream",
     "text": [
      "Value of v :=  0\n",
      "Value of v :=  1\n",
      "Value of v :=  2\n",
      "Value of v :=  3\n",
      "Value of v :=  4\n",
      "Value of v :=  5\n"
     ]
    }
   ],
   "source": [
    "with tf.Session() as sess:\n",
    "    sess.run(in_op)\n",
    "    print(\"Value of v := \",sess.run(v))\n",
    "    for _ in range(5):\n",
    "        sess.run(update)\n",
    "        print(\"Value of v := \",sess.run(v))"
   ]
  },
  {
   "cell_type": "code",
   "execution_count": 78,
   "metadata": {},
   "outputs": [],
   "source": [
    "a = tf.placeholder(tf.float64)\n",
    "b = a * 3"
   ]
  },
  {
   "cell_type": "code",
   "execution_count": 79,
   "metadata": {},
   "outputs": [
    {
     "name": "stdout",
     "output_type": "stream",
     "text": [
      "10.5\n"
     ]
    }
   ],
   "source": [
    "with tf.Session() as sess:\n",
    "    result = sess.run(b,feed_dict={a:3.5})\n",
    "    print (result)"
   ]
  },
  {
   "cell_type": "code",
   "execution_count": 80,
   "metadata": {},
   "outputs": [
    {
     "name": "stdout",
     "output_type": "stream",
     "text": [
      "[[[ 3.  6.  9.]\n",
      "  [12. 15. 18.]\n",
      "  [21. 24. 27.]\n",
      "  [30. 33. 36.]]\n",
      "\n",
      " [[39. 42. 45.]\n",
      "  [48. 51. 54.]\n",
      "  [57. 60. 63.]\n",
      "  [66. 69. 72.]]]\n"
     ]
    }
   ],
   "source": [
    "dictionary={a: [ [ [1,2,3],[4,5,6],[7,8,9],[10,11,12] ] , [ [13,14,15],[16,17,18],[19,20,21],[22,23,24] ] ] }\n",
    "\n",
    "with tf.Session() as sess:\n",
    "    result = sess.run(b,feed_dict=dictionary)\n",
    "    print (result)"
   ]
  }
 ],
 "metadata": {
  "kernelspec": {
   "display_name": "Python 3",
   "language": "python",
   "name": "python3"
  },
  "language_info": {
   "codemirror_mode": {
    "name": "ipython",
    "version": 3
   },
   "file_extension": ".py",
   "mimetype": "text/x-python",
   "name": "python",
   "nbconvert_exporter": "python",
   "pygments_lexer": "ipython3",
   "version": "3.7.7"
  }
 },
 "nbformat": 4,
 "nbformat_minor": 4
}
